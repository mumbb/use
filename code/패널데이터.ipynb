{
 "cells": [
  {
   "cell_type": "markdown",
   "metadata": {},
   "source": [
    "# 패널데이터 생성\n",
    "\n",
    "시작, 종료 컬럼이 있습니다. 컬럼 안의 데이터 형태는 연-월-일-시-분-초 입니다. 시작에서 종료까지 패널데이터를 만들어보겠습니다. "
   ]
  },
  {
   "cell_type": "code",
   "execution_count": null,
   "metadata": {},
   "outputs": [],
   "source": [
    "import pandas as pd\n",
    "import datetime\n",
    "from datetime import time\n",
    "import copy\n",
    "\n",
    "data['영상 요청 시작일'] = pd.to_datetime(data['영상 요청 시작일'])\n",
    "data['영상 요청 종료일'] = pd.to_datetime(data['영상 요청 종료일'])"
   ]
  },
  {
   "cell_type": "code",
   "execution_count": null,
   "metadata": {},
   "outputs": [],
   "source": [
    "per_hour = []\n",
    "\n",
    "for start, end in zip(data['영상 요청 시작일'], data['영상 요청 종료일']):\n",
    "    per = pd.period_range(start = start,\n",
    "                         end = end,\n",
    "                         freq = 'H')\n",
    "    per_hour.append(per)\n",
    "\n",
    "data['pennal_tmp'] = per_hour\n",
    "data = data.join(data['pennal_tmp'].apply(lambda x: pd.Series(x)).stack().reset_index(1, name = 'pennal').drop('level_1', axis = 1))\n",
    "del data['pennal_tmp']"
   ]
  }
 ],
 "metadata": {
  "kernelspec": {
   "display_name": "Python 3",
   "language": "python",
   "name": "python3"
  },
  "language_info": {
   "codemirror_mode": {
    "name": "ipython",
    "version": 3
   },
   "file_extension": ".py",
   "mimetype": "text/x-python",
   "name": "python",
   "nbconvert_exporter": "python",
   "pygments_lexer": "ipython3",
   "version": "3.8.3"
  }
 },
 "nbformat": 4,
 "nbformat_minor": 4
}
