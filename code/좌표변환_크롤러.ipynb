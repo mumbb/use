{
 "cells": [
  {
   "cell_type": "code",
   "execution_count": 2,
   "metadata": {},
   "outputs": [],
   "source": [
    "import pandas as pd\n",
    "import numpy as np"
   ]
  },
  {
   "cell_type": "markdown",
   "metadata": {},
   "source": [
    "# 좌표 입력을 위한 크롤링\n",
    "\n",
    " selenium과 BeautifulSoup을 이용합니다.\n",
    " \n",
    " * http://www.geocoding.co.kr/ 해당 사이트에서 도로명 주소 검색 후 나온 결과값 위경도를 받아온다"
   ]
  },
  {
   "cell_type": "code",
   "execution_count": 28,
   "metadata": {},
   "outputs": [
    {
     "name": "stdout",
     "output_type": "stream",
     "text": [
      "Requirement already satisfied: selenium in c:\\programdata\\anaconda3\\lib\\site-packages (3.141.0)\n",
      "Requirement already satisfied: urllib3 in c:\\programdata\\anaconda3\\lib\\site-packages (from selenium) (1.25.9)\n"
     ]
    }
   ],
   "source": [
    "# !pip install selenium\n",
    "# !pip install requests\n",
    "# !pip install tqdm"
   ]
  },
  {
   "cell_type": "code",
   "execution_count": 4,
   "metadata": {},
   "outputs": [],
   "source": [
    "from bs4 import BeautifulSoup\n",
    "import requests\n",
    "import re\n",
    "import lxml.html\n",
    "\n",
    "from selenium import webdriver\n",
    "from selenium.webdriver.common.keys import Keys\n",
    "\n",
    "import time\n",
    "from tqdm import tqdm"
   ]
  },
  {
   "cell_type": "code",
   "execution_count": 73,
   "metadata": {},
   "outputs": [],
   "source": [
    "주소 = list(data['주소']) #검색어\n",
    "\n",
    "lat_list = []\n",
    "lon_list = []\n",
    "\n",
    "def 크롤(주소):\n",
    "    \n",
    "    browser = webdriver.Chrome() \n",
    "    browser.get(\"http://www.geocoding.co.kr/\") # 웹 열기\n",
    "    \n",
    "    search_box = browser.find_element_by_css_selector(\"input#addr\") #검색어\n",
    "\n",
    "    for i in tqdm(range(len(주소))):\n",
    "        search_box.send_keys(주소[i]) # 검색어 입력\n",
    "        search_box.send_keys(Keys.RETURN) # 엔터\n",
    "        \n",
    "        time.sleep(1)\n",
    "        \n",
    "        html = browser.page_source\n",
    "        soup = BeautifulSoup(html, 'html.parser')\n",
    "        try:\n",
    "            \n",
    "            lat = soup.select('span')[0].get_text().split(': ')[1]\n",
    "            lon = soup.select('span')[1].get_text().split(': ')[1]\n",
    "        \n",
    "        except:\n",
    "            lat = '오류'\n",
    "            lon = '오류'\n",
    "        \n",
    "        search_box.clear() #서치박스 비우기\n",
    "\n",
    "        lat_list.append(lat)\n",
    "        lon_list.append(lon)\n",
    "    "
   ]
  },
  {
   "cell_type": "code",
   "execution_count": 74,
   "metadata": {},
   "outputs": [
    {
     "name": "stderr",
     "output_type": "stream",
     "text": [
      "100%|████████████████████████████████████████████████████████████████████████████| 1074/1074 [3:51:23<00:00, 12.93s/it]\n"
     ]
    }
   ],
   "source": [
    "크롤(주소)"
   ]
  },
  {
   "cell_type": "code",
   "execution_count": 79,
   "metadata": {},
   "outputs": [],
   "source": [
    "data['위도']  = lat_list\n",
    "data['경도'] = lon_list"
   ]
  },
  {
   "cell_type": "raw",
   "metadata": {},
   "source": []
  }
 ],
 "metadata": {
  "kernelspec": {
   "display_name": "Python 3",
   "language": "python",
   "name": "python3"
  },
  "language_info": {
   "codemirror_mode": {
    "name": "ipython",
    "version": 3
   },
   "file_extension": ".py",
   "mimetype": "text/x-python",
   "name": "python",
   "nbconvert_exporter": "python",
   "pygments_lexer": "ipython3",
   "version": "3.8.3"
  }
 },
 "nbformat": 4,
 "nbformat_minor": 4
}
